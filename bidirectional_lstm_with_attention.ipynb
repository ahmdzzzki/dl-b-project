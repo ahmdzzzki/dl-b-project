{
 "cells": [
  {
   "cell_type": "markdown",
   "metadata": {},
   "source": [
    "# Tugas Mata Kuliah Deep Learning\n",
    "\n",
    "### **Nama Anggota Kelompok:**\n",
    "1. Ahmad Zaki (225150201111025)  \n",
    "2. Muhammad Razi Al Kindi Nadra (225150207111107)  \n",
    "3. Arion Syemael Siahaan (225150207111060)  "
   ]
  },
  {
   "cell_type": "markdown",
   "metadata": {},
   "source": [
    "- Model: Fully Connected Neural Network (FCNN)\n",
    "- Oversampling: SMOTE\n",
    "- Optimizer: Adam\n",
    "- Validasi Silang: K-fold cross-validation\n",
    "- Metode Tambahan: Learning rate scheduler, L1L2 regularizer\n",
    "- Fungsi Loss: Focal Loss"
   ]
  },
  {
   "cell_type": "markdown",
   "metadata": {},
   "source": [
    "Data Understanding dan Preliminary Analysis"
   ]
  },
  {
   "cell_type": "code",
   "execution_count": 43,
   "metadata": {},
   "outputs": [],
   "source": [
    "import numpy as np\n",
    "import pandas as pd\n",
    "import matplotlib.pyplot as plt\n",
    "from sklearn.model_selection import StratifiedKFold\n",
    "from sklearn.preprocessing import RobustScaler\n",
    "from sklearn.feature_selection import SelectKBest, mutual_info_classif\n",
    "from sklearn.metrics import classification_report, confusion_matrix, precision_recall_curve, auc\n",
    "from sklearn.utils import shuffle\n",
    "from imblearn.over_sampling import SMOTE\n",
    "import tensorflow as tf\n",
    "from tensorflow.keras import layers, models, regularizers\n",
    "from tensorflow.keras import backend as K\n",
    "import seaborn as sns\n",
    "from tensorflow.keras.layers import Input, Bidirectional, Attention\n",
    "from tensorflow.keras.models import Model"
   ]
  },
  {
   "cell_type": "markdown",
   "metadata": {},
   "source": [
    "Focal Loss Implementation"
   ]
  },
  {
   "cell_type": "code",
   "execution_count": 44,
   "metadata": {},
   "outputs": [],
   "source": [
    "def focal_loss(gamma=2., alpha=0.25):\n",
    "    def focal_loss_fixed(y_true, y_pred):\n",
    "        y_true = K.cast(y_true, dtype=K.floatx())\n",
    "        alpha_t = y_true * alpha + (1 - y_true) * (1 - alpha)\n",
    "        p_t = y_true * y_pred + (1 - y_true) * (1 - y_pred) + K.epsilon()\n",
    "        loss = -alpha_t * K.pow(1 - p_t, gamma) * K.log(p_t)\n",
    "        return K.mean(loss)\n",
    "    return focal_loss_fixed"
   ]
  },
  {
   "cell_type": "markdown",
   "metadata": {},
   "source": [
    "Create LSTM Model"
   ]
  },
  {
   "cell_type": "code",
   "execution_count": 45,
   "metadata": {},
   "outputs": [],
   "source": [
    "# Mekanisme Attention Layer\n",
    "class AttentionLayer(tf.keras.layers.Layer):\n",
    "    def __init__(self, **kwargs):\n",
    "        super(AttentionLayer, self).__init__(**kwargs)\n",
    "\n",
    "    def call(self, inputs):\n",
    "        query, value = inputs\n",
    "        score = tf.matmul(query, value, transpose_b=True)\n",
    "        alignment = tf.nn.softmax(score, axis=-1)\n",
    "        context = tf.matmul(alignment, value)\n",
    "        return context"
   ]
  },
  {
   "cell_type": "code",
   "execution_count": 46,
   "metadata": {},
   "outputs": [],
   "source": [
    "from tensorflow.keras.layers import GlobalAveragePooling1D, Input, Bidirectional\n",
    "from tensorflow.keras.models import Model\n",
    "\n",
    "# Modifikasi Model LSTM\n",
    "def create_bidirectional_lstm_with_attention(input_shape, dropout_rate=0.4):\n",
    "    input_layer = Input(shape=input_shape)\n",
    "    lstm_output = Bidirectional(\n",
    "        layers.LSTM(64, return_sequences=True, kernel_regularizer=regularizers.l2(1e-4))\n",
    "    )(input_layer)\n",
    "    attention_output = AttentionLayer()([lstm_output, lstm_output])\n",
    "\n",
    "    # Tambahkan GlobalAveragePooling1D untuk mereduksi dimensi\n",
    "    pooling_output = GlobalAveragePooling1D()(attention_output)\n",
    "\n",
    "    dense_output = layers.Dense(32, activation=\"relu\", kernel_regularizer=regularizers.l1_l2(1e-5, 1e-4))(pooling_output)\n",
    "    dropout_layer = layers.Dropout(dropout_rate)(dense_output)\n",
    "    output_layer = layers.Dense(1, activation=\"sigmoid\")(dropout_layer)\n",
    "\n",
    "    model = Model(inputs=input_layer, outputs=output_layer)\n",
    "\n",
    "    initial_learning_rate = 0.001\n",
    "    lr_schedule = tf.keras.optimizers.schedules.ExponentialDecay(\n",
    "        initial_learning_rate=initial_learning_rate,\n",
    "        decay_steps=1000,\n",
    "        decay_rate=0.9,\n",
    "        staircase=False\n",
    "    )\n",
    "\n",
    "    optimizer = tf.keras.optimizers.Adam(learning_rate=lr_schedule)\n",
    "\n",
    "\n",
    "    model.compile(\n",
    "        optimizer=optimizer,\n",
    "        loss=focal_loss(gamma=2.0, alpha=0.25),\n",
    "        metrics=[\"accuracy\", tf.keras.metrics.Precision(), tf.keras.metrics.Recall(), tf.keras.metrics.AUC()],\n",
    "    )\n",
    "\n",
    "    return model"
   ]
  },
  {
   "cell_type": "markdown",
   "metadata": {},
   "source": [
    "Precision-Recall Curve"
   ]
  },
  {
   "cell_type": "code",
   "execution_count": 47,
   "metadata": {},
   "outputs": [],
   "source": [
    "def plot_pr_curve(y_true, y_pred_probs):\n",
    "    precision, recall, _ = precision_recall_curve(y_true, y_pred_probs)\n",
    "    pr_auc = auc(recall, precision)\n",
    "    plt.figure(figsize=(8, 6))\n",
    "    plt.plot(recall, precision, label=f'PR AUC = {pr_auc:.4f}')\n",
    "    plt.xlabel('Recall')\n",
    "    plt.ylabel('Precision')\n",
    "    plt.title('Precision-Recall Curve')\n",
    "    plt.legend()\n",
    "    plt.grid(True)\n",
    "    plt.show()"
   ]
  },
  {
   "cell_type": "markdown",
   "metadata": {},
   "source": [
    "Training with K-Fold Cross Validation"
   ]
  },
  {
   "cell_type": "code",
   "execution_count": 48,
   "metadata": {},
   "outputs": [],
   "source": [
    "def train_bidirectional_lstm_with_attention(X, y, timesteps, n_splits=5):\n",
    "    kfold = StratifiedKFold(n_splits=n_splits, shuffle=True, random_state=42)\n",
    "    histories = []\n",
    "    models = []\n",
    "\n",
    "    for fold, (train_idx, val_idx) in enumerate(kfold.split(X, y)):\n",
    "        print(f\"\\nFold {fold + 1}/{n_splits}\")\n",
    "\n",
    "        X_train, X_val = X[train_idx], X[val_idx]\n",
    "        y_train, y_val = y[train_idx], y[val_idx]\n",
    "\n",
    "        # Reshape data for LSTM\n",
    "        X_train = X_train.reshape(-1, timesteps, X_train.shape[1] // timesteps)\n",
    "        X_val = X_val.reshape(-1, timesteps, X_val.shape[1] // timesteps)\n",
    "\n",
    "        # Apply SMOTE\n",
    "        smote = SMOTE(random_state=42)\n",
    "        X_train_balanced, y_train_balanced = smote.fit_resample(\n",
    "            X_train.reshape(X_train.shape[0], -1), y_train\n",
    "        )\n",
    "        X_train_balanced = X_train_balanced.reshape(-1, timesteps, X_train.shape[2])\n",
    "\n",
    "        # Ubah dimensi y_train_balanced dan y_val menjadi (batch_size, 1)\n",
    "        y_train_balanced = y_train_balanced.reshape(-1, 1)\n",
    "        y_val = y_val.reshape(-1, 1)\n",
    "\n",
    "        # Periksa bentuk tensor\n",
    "        print(f\"X_train_balanced shape: {X_train_balanced.shape}\")\n",
    "        print(f\"y_train_balanced shape: {y_train_balanced.shape}\")\n",
    "\n",
    "        # Calculate class weights\n",
    "        class_weights = dict(enumerate(np.bincount(y_train_balanced.ravel()).max() / np.bincount(y_train_balanced.ravel())))\n",
    "\n",
    "        # Create and train model\n",
    "        model = create_bidirectional_lstm_with_attention((timesteps, X_train.shape[2]))\n",
    "        callbacks=[\n",
    "            tf.keras.callbacks.EarlyStopping(\n",
    "                monitor=\"val_loss\", patience=5, restore_best_weights=True\n",
    "            )\n",
    "        ]\n",
    "\n",
    "        history = model.fit(\n",
    "            X_train_balanced,\n",
    "            y_train_balanced,\n",
    "            epochs=10,\n",
    "            batch_size=32,\n",
    "            verbose=1,\n",
    "            validation_data=(X_val, y_val),\n",
    "            class_weight=class_weights,\n",
    "            callbacks=callbacks\n",
    "        )\n",
    "\n",
    "        histories.append(history.history)\n",
    "        models.append(model)\n",
    "\n",
    "    return models, histories"
   ]
  },
  {
   "cell_type": "markdown",
   "metadata": {},
   "source": [
    "Main Pipeline"
   ]
  },
  {
   "cell_type": "code",
   "execution_count": 49,
   "metadata": {},
   "outputs": [],
   "source": [
    "X_df = pd.read_csv('../kiw/processed_features.csv')\n",
    "y_df = pd.read_csv('../kiw/processed_labels.csv')\n",
    "\n",
    "X = X_df.values\n",
    "y = y_df.values.ravel() "
   ]
  },
  {
   "cell_type": "code",
   "execution_count": 50,
   "metadata": {},
   "outputs": [
    {
     "name": "stdout",
     "output_type": "stream",
     "text": [
      "Dynamic memory allocation enabled.\n"
     ]
    }
   ],
   "source": [
    "import tensorflow as tf\n",
    "\n",
    "gpus = tf.config.list_physical_devices('GPU')\n",
    "if gpus:\n",
    "    try:\n",
    "        for gpu in gpus:\n",
    "            tf.config.experimental.set_memory_growth(gpu, True)\n",
    "        print(\"Dynamic memory allocation enabled.\")\n",
    "    except RuntimeError as e:\n",
    "        print(e)\n",
    "\n",
    "import os\n",
    "os.environ['TF_GPU_ALLOCATOR'] = 'cuda_malloc_async'"
   ]
  },
  {
   "cell_type": "markdown",
   "metadata": {},
   "source": [
    "Train model with k-fold"
   ]
  },
  {
   "cell_type": "code",
   "execution_count": 51,
   "metadata": {},
   "outputs": [
    {
     "name": "stdout",
     "output_type": "stream",
     "text": [
      "\n",
      "Fold 1/5\n",
      "X_train_balanced shape: (2859488, 20, 15)\n",
      "y_train_balanced shape: (2859488, 1)\n",
      "Epoch 1/10\n"
     ]
    },
    {
     "name": "stderr",
     "output_type": "stream",
     "text": [
      "2024-12-23 07:17:16.103412: W tensorflow/core/grappler/costs/op_level_cost_estimator.cc:690] Error in PredictCost() for the op: op: \"Softmax\" attr { key: \"T\" value { type: DT_FLOAT } } inputs { dtype: DT_FLOAT shape { unknown_rank: true } } device { type: \"GPU\" vendor: \"NVIDIA\" model: \"NVIDIA A100-SXM4-80GB\" frequency: 1410 num_cores: 108 environment { key: \"architecture\" value: \"8.0\" } environment { key: \"cuda\" value: \"11020\" } environment { key: \"cudnn\" value: \"8100\" } num_registers: 65536 l1_cache_size: 24576 l2_cache_size: 41943040 shared_memory_size_per_multiprocessor: 167936 memory_size: 82977161216 bandwidth: 2039040000 } outputs { dtype: DT_FLOAT shape { unknown_rank: true } }\n"
     ]
    },
    {
     "name": "stdout",
     "output_type": "stream",
     "text": [
      "89356/89359 [============================>.] - ETA: 0s - loss: 0.0151 - accuracy: 0.9433 - precision_4: 0.9806 - recall_4: 0.9045 - auc_4: 0.9915"
     ]
    },
    {
     "name": "stderr",
     "output_type": "stream",
     "text": [
      "2024-12-23 07:25:27.606488: W tensorflow/core/grappler/costs/op_level_cost_estimator.cc:690] Error in PredictCost() for the op: op: \"Softmax\" attr { key: \"T\" value { type: DT_FLOAT } } inputs { dtype: DT_FLOAT shape { unknown_rank: true } } device { type: \"GPU\" vendor: \"NVIDIA\" model: \"NVIDIA A100-SXM4-80GB\" frequency: 1410 num_cores: 108 environment { key: \"architecture\" value: \"8.0\" } environment { key: \"cuda\" value: \"11020\" } environment { key: \"cudnn\" value: \"8100\" } num_registers: 65536 l1_cache_size: 24576 l2_cache_size: 41943040 shared_memory_size_per_multiprocessor: 167936 memory_size: 82977161216 bandwidth: 2039040000 } outputs { dtype: DT_FLOAT shape { unknown_rank: true } }\n"
     ]
    },
    {
     "name": "stdout",
     "output_type": "stream",
     "text": [
      "89359/89359 [==============================] - 529s 6ms/step - loss: 0.0151 - accuracy: 0.9433 - precision_4: 0.9806 - recall_4: 0.9045 - auc_4: 0.9915 - val_loss: 0.0128 - val_accuracy: 0.9832 - val_precision_4: 0.4008 - val_recall_4: 0.9023 - val_auc_4: 0.9919\n",
      "Epoch 2/10\n",
      "89359/89359 [==============================] - 533s 6ms/step - loss: 0.0138 - accuracy: 0.9477 - precision_4: 0.9829 - recall_4: 0.9112 - auc_4: 0.9928 - val_loss: 0.0128 - val_accuracy: 0.9832 - val_precision_4: 0.4006 - val_recall_4: 0.9023 - val_auc_4: 0.9919\n",
      "Epoch 3/10\n",
      "89359/89359 [==============================] - 520s 6ms/step - loss: 0.0138 - accuracy: 0.9477 - precision_4: 0.9830 - recall_4: 0.9111 - auc_4: 0.9928 - val_loss: 0.0128 - val_accuracy: 0.9832 - val_precision_4: 0.4006 - val_recall_4: 0.9023 - val_auc_4: 0.9919\n",
      "Epoch 4/10\n",
      "89359/89359 [==============================] - 520s 6ms/step - loss: 0.0138 - accuracy: 0.9477 - precision_4: 0.9830 - recall_4: 0.9111 - auc_4: 0.9928 - val_loss: 0.0128 - val_accuracy: 0.9832 - val_precision_4: 0.4006 - val_recall_4: 0.9023 - val_auc_4: 0.9919\n",
      "Epoch 5/10\n",
      "89359/89359 [==============================] - 537s 6ms/step - loss: 0.0138 - accuracy: 0.9476 - precision_4: 0.9830 - recall_4: 0.9111 - auc_4: 0.9928 - val_loss: 0.0128 - val_accuracy: 0.9832 - val_precision_4: 0.4006 - val_recall_4: 0.9023 - val_auc_4: 0.9919\n",
      "Epoch 6/10\n",
      "89359/89359 [==============================] - 517s 6ms/step - loss: 0.0138 - accuracy: 0.9477 - precision_4: 0.9830 - recall_4: 0.9111 - auc_4: 0.9928 - val_loss: 0.0128 - val_accuracy: 0.9832 - val_precision_4: 0.4006 - val_recall_4: 0.9023 - val_auc_4: 0.9919\n",
      "\n",
      "Fold 2/5\n",
      "X_train_balanced shape: (2859490, 20, 15)\n",
      "y_train_balanced shape: (2859490, 1)\n",
      "Epoch 1/10\n"
     ]
    },
    {
     "name": "stderr",
     "output_type": "stream",
     "text": [
      "2024-12-23 08:10:03.341928: W tensorflow/core/grappler/costs/op_level_cost_estimator.cc:690] Error in PredictCost() for the op: op: \"Softmax\" attr { key: \"T\" value { type: DT_FLOAT } } inputs { dtype: DT_FLOAT shape { unknown_rank: true } } device { type: \"GPU\" vendor: \"NVIDIA\" model: \"NVIDIA A100-SXM4-80GB\" frequency: 1410 num_cores: 108 environment { key: \"architecture\" value: \"8.0\" } environment { key: \"cuda\" value: \"11020\" } environment { key: \"cudnn\" value: \"8100\" } num_registers: 65536 l1_cache_size: 24576 l2_cache_size: 41943040 shared_memory_size_per_multiprocessor: 167936 memory_size: 82977161216 bandwidth: 2039040000 } outputs { dtype: DT_FLOAT shape { unknown_rank: true } }\n"
     ]
    },
    {
     "name": "stdout",
     "output_type": "stream",
     "text": [
      "89357/89360 [============================>.] - ETA: 0s - loss: 0.0151 - accuracy: 0.9453 - precision_5: 0.9804 - recall_5: 0.9087 - auc_5: 0.9915"
     ]
    },
    {
     "name": "stderr",
     "output_type": "stream",
     "text": [
      "2024-12-23 08:19:11.642511: W tensorflow/core/grappler/costs/op_level_cost_estimator.cc:690] Error in PredictCost() for the op: op: \"Softmax\" attr { key: \"T\" value { type: DT_FLOAT } } inputs { dtype: DT_FLOAT shape { unknown_rank: true } } device { type: \"GPU\" vendor: \"NVIDIA\" model: \"NVIDIA A100-SXM4-80GB\" frequency: 1410 num_cores: 108 environment { key: \"architecture\" value: \"8.0\" } environment { key: \"cuda\" value: \"11020\" } environment { key: \"cudnn\" value: \"8100\" } num_registers: 65536 l1_cache_size: 24576 l2_cache_size: 41943040 shared_memory_size_per_multiprocessor: 167936 memory_size: 82977161216 bandwidth: 2039040000 } outputs { dtype: DT_FLOAT shape { unknown_rank: true } }\n"
     ]
    },
    {
     "name": "stdout",
     "output_type": "stream",
     "text": [
      "89360/89360 [==============================] - 588s 7ms/step - loss: 0.0151 - accuracy: 0.9453 - precision_5: 0.9804 - recall_5: 0.9087 - auc_5: 0.9915 - val_loss: 0.0130 - val_accuracy: 0.9828 - val_precision_5: 0.3937 - val_recall_5: 0.8966 - val_auc_5: 0.9910\n",
      "Epoch 2/10\n",
      "89360/89360 [==============================] - 583s 7ms/step - loss: 0.0138 - accuracy: 0.9496 - precision_5: 0.9828 - recall_5: 0.9152 - auc_5: 0.9927 - val_loss: 0.0129 - val_accuracy: 0.9829 - val_precision_5: 0.3951 - val_recall_5: 0.8964 - val_auc_5: 0.9910\n",
      "Epoch 3/10\n",
      "89360/89360 [==============================] - 588s 7ms/step - loss: 0.0138 - accuracy: 0.9496 - precision_5: 0.9829 - recall_5: 0.9151 - auc_5: 0.9927 - val_loss: 0.0129 - val_accuracy: 0.9829 - val_precision_5: 0.3951 - val_recall_5: 0.8964 - val_auc_5: 0.9910\n",
      "Epoch 4/10\n",
      "89360/89360 [==============================] - 584s 7ms/step - loss: 0.0138 - accuracy: 0.9495 - precision_5: 0.9828 - recall_5: 0.9150 - auc_5: 0.9927 - val_loss: 0.0129 - val_accuracy: 0.9829 - val_precision_5: 0.3951 - val_recall_5: 0.8964 - val_auc_5: 0.9910\n",
      "Epoch 5/10\n",
      "89360/89360 [==============================] - 584s 7ms/step - loss: 0.0138 - accuracy: 0.9495 - precision_5: 0.9828 - recall_5: 0.9150 - auc_5: 0.9927 - val_loss: 0.0129 - val_accuracy: 0.9829 - val_precision_5: 0.3951 - val_recall_5: 0.8964 - val_auc_5: 0.9910\n",
      "Epoch 6/10\n",
      "89360/89360 [==============================] - 589s 7ms/step - loss: 0.0138 - accuracy: 0.9496 - precision_5: 0.9829 - recall_5: 0.9151 - auc_5: 0.9927 - val_loss: 0.0129 - val_accuracy: 0.9829 - val_precision_5: 0.3951 - val_recall_5: 0.8964 - val_auc_5: 0.9910\n",
      "Epoch 7/10\n",
      "89360/89360 [==============================] - 593s 7ms/step - loss: 0.0138 - accuracy: 0.9495 - precision_5: 0.9828 - recall_5: 0.9150 - auc_5: 0.9927 - val_loss: 0.0129 - val_accuracy: 0.9829 - val_precision_5: 0.3951 - val_recall_5: 0.8964 - val_auc_5: 0.9910\n",
      "\n",
      "Fold 3/5\n",
      "X_train_balanced shape: (2859490, 20, 15)\n",
      "y_train_balanced shape: (2859490, 1)\n",
      "Epoch 1/10\n"
     ]
    },
    {
     "name": "stderr",
     "output_type": "stream",
     "text": [
      "2024-12-23 09:18:40.033296: W tensorflow/core/grappler/costs/op_level_cost_estimator.cc:690] Error in PredictCost() for the op: op: \"Softmax\" attr { key: \"T\" value { type: DT_FLOAT } } inputs { dtype: DT_FLOAT shape { unknown_rank: true } } device { type: \"GPU\" vendor: \"NVIDIA\" model: \"NVIDIA A100-SXM4-80GB\" frequency: 1410 num_cores: 108 environment { key: \"architecture\" value: \"8.0\" } environment { key: \"cuda\" value: \"11020\" } environment { key: \"cudnn\" value: \"8100\" } num_registers: 65536 l1_cache_size: 24576 l2_cache_size: 41943040 shared_memory_size_per_multiprocessor: 167936 memory_size: 82977161216 bandwidth: 2039040000 } outputs { dtype: DT_FLOAT shape { unknown_rank: true } }\n"
     ]
    },
    {
     "name": "stdout",
     "output_type": "stream",
     "text": [
      "89357/89360 [============================>.] - ETA: 0s - loss: 0.0149 - accuracy: 0.9456 - precision_6: 0.9812 - recall_6: 0.9086 - auc_6: 0.9916"
     ]
    },
    {
     "name": "stderr",
     "output_type": "stream",
     "text": [
      "2024-12-23 09:27:50.424320: W tensorflow/core/grappler/costs/op_level_cost_estimator.cc:690] Error in PredictCost() for the op: op: \"Softmax\" attr { key: \"T\" value { type: DT_FLOAT } } inputs { dtype: DT_FLOAT shape { unknown_rank: true } } device { type: \"GPU\" vendor: \"NVIDIA\" model: \"NVIDIA A100-SXM4-80GB\" frequency: 1410 num_cores: 108 environment { key: \"architecture\" value: \"8.0\" } environment { key: \"cuda\" value: \"11020\" } environment { key: \"cudnn\" value: \"8100\" } num_registers: 65536 l1_cache_size: 24576 l2_cache_size: 41943040 shared_memory_size_per_multiprocessor: 167936 memory_size: 82977161216 bandwidth: 2039040000 } outputs { dtype: DT_FLOAT shape { unknown_rank: true } }\n"
     ]
    },
    {
     "name": "stdout",
     "output_type": "stream",
     "text": [
      "89360/89360 [==============================] - 588s 7ms/step - loss: 0.0149 - accuracy: 0.9456 - precision_6: 0.9812 - recall_6: 0.9086 - auc_6: 0.9916 - val_loss: 0.0125 - val_accuracy: 0.9851 - val_precision_6: 0.4330 - val_recall_6: 0.9174 - val_auc_6: 0.9923\n",
      "Epoch 2/10\n",
      "89360/89360 [==============================] - 586s 7ms/step - loss: 0.0136 - accuracy: 0.9509 - precision_6: 0.9844 - recall_6: 0.9164 - auc_6: 0.9929 - val_loss: 0.0126 - val_accuracy: 0.9851 - val_precision_6: 0.4330 - val_recall_6: 0.9174 - val_auc_6: 0.9923\n",
      "Epoch 3/10\n",
      "89360/89360 [==============================] - 583s 7ms/step - loss: 0.0136 - accuracy: 0.9509 - precision_6: 0.9843 - recall_6: 0.9164 - auc_6: 0.9929 - val_loss: 0.0126 - val_accuracy: 0.9851 - val_precision_6: 0.4330 - val_recall_6: 0.9174 - val_auc_6: 0.9923\n",
      "Epoch 4/10\n",
      "89360/89360 [==============================] - 584s 7ms/step - loss: 0.0136 - accuracy: 0.9509 - precision_6: 0.9843 - recall_6: 0.9165 - auc_6: 0.9929 - val_loss: 0.0126 - val_accuracy: 0.9851 - val_precision_6: 0.4330 - val_recall_6: 0.9174 - val_auc_6: 0.9923\n",
      "Epoch 5/10\n",
      "89360/89360 [==============================] - 586s 7ms/step - loss: 0.0136 - accuracy: 0.9509 - precision_6: 0.9844 - recall_6: 0.9164 - auc_6: 0.9929 - val_loss: 0.0126 - val_accuracy: 0.9851 - val_precision_6: 0.4330 - val_recall_6: 0.9174 - val_auc_6: 0.9923\n",
      "Epoch 6/10\n",
      "89360/89360 [==============================] - 585s 7ms/step - loss: 0.0136 - accuracy: 0.9509 - precision_6: 0.9843 - recall_6: 0.9164 - auc_6: 0.9929 - val_loss: 0.0126 - val_accuracy: 0.9851 - val_precision_6: 0.4330 - val_recall_6: 0.9174 - val_auc_6: 0.9923\n",
      "\n",
      "Fold 4/5\n",
      "X_train_balanced shape: (2859490, 20, 15)\n",
      "y_train_balanced shape: (2859490, 1)\n",
      "Epoch 1/10\n"
     ]
    },
    {
     "name": "stderr",
     "output_type": "stream",
     "text": [
      "2024-12-23 10:17:21.946675: W tensorflow/core/grappler/costs/op_level_cost_estimator.cc:690] Error in PredictCost() for the op: op: \"Softmax\" attr { key: \"T\" value { type: DT_FLOAT } } inputs { dtype: DT_FLOAT shape { unknown_rank: true } } device { type: \"GPU\" vendor: \"NVIDIA\" model: \"NVIDIA A100-SXM4-80GB\" frequency: 1410 num_cores: 108 environment { key: \"architecture\" value: \"8.0\" } environment { key: \"cuda\" value: \"11020\" } environment { key: \"cudnn\" value: \"8100\" } num_registers: 65536 l1_cache_size: 24576 l2_cache_size: 41943040 shared_memory_size_per_multiprocessor: 167936 memory_size: 82977161216 bandwidth: 2039040000 } outputs { dtype: DT_FLOAT shape { unknown_rank: true } }\n"
     ]
    },
    {
     "name": "stdout",
     "output_type": "stream",
     "text": [
      "89357/89360 [============================>.] - ETA: 0s - loss: 0.0150 - accuracy: 0.9444 - precision_7: 0.9795 - recall_7: 0.9078 - auc_7: 0.9917"
     ]
    },
    {
     "name": "stderr",
     "output_type": "stream",
     "text": [
      "2024-12-23 10:26:37.164175: W tensorflow/core/grappler/costs/op_level_cost_estimator.cc:690] Error in PredictCost() for the op: op: \"Softmax\" attr { key: \"T\" value { type: DT_FLOAT } } inputs { dtype: DT_FLOAT shape { unknown_rank: true } } device { type: \"GPU\" vendor: \"NVIDIA\" model: \"NVIDIA A100-SXM4-80GB\" frequency: 1410 num_cores: 108 environment { key: \"architecture\" value: \"8.0\" } environment { key: \"cuda\" value: \"11020\" } environment { key: \"cudnn\" value: \"8100\" } num_registers: 65536 l1_cache_size: 24576 l2_cache_size: 41943040 shared_memory_size_per_multiprocessor: 167936 memory_size: 82977161216 bandwidth: 2039040000 } outputs { dtype: DT_FLOAT shape { unknown_rank: true } }\n"
     ]
    },
    {
     "name": "stdout",
     "output_type": "stream",
     "text": [
      "89360/89360 [==============================] - 595s 7ms/step - loss: 0.0150 - accuracy: 0.9444 - precision_7: 0.9795 - recall_7: 0.9078 - auc_7: 0.9917 - val_loss: 0.0126 - val_accuracy: 0.9820 - val_precision_7: 0.3839 - val_recall_7: 0.9183 - val_auc_7: 0.9930\n",
      "Epoch 2/10\n",
      "89360/89360 [==============================] - 589s 7ms/step - loss: 0.0136 - accuracy: 0.9495 - precision_7: 0.9817 - recall_7: 0.9160 - auc_7: 0.9931 - val_loss: 0.0126 - val_accuracy: 0.9820 - val_precision_7: 0.3839 - val_recall_7: 0.9188 - val_auc_7: 0.9930\n",
      "Epoch 3/10\n",
      "89360/89360 [==============================] - 593s 7ms/step - loss: 0.0136 - accuracy: 0.9495 - precision_7: 0.9817 - recall_7: 0.9160 - auc_7: 0.9931 - val_loss: 0.0126 - val_accuracy: 0.9820 - val_precision_7: 0.3839 - val_recall_7: 0.9188 - val_auc_7: 0.9930\n",
      "Epoch 4/10\n",
      "89360/89360 [==============================] - 592s 7ms/step - loss: 0.0136 - accuracy: 0.9495 - precision_7: 0.9817 - recall_7: 0.9160 - auc_7: 0.9931 - val_loss: 0.0126 - val_accuracy: 0.9820 - val_precision_7: 0.3839 - val_recall_7: 0.9188 - val_auc_7: 0.9930\n",
      "Epoch 5/10\n",
      "89360/89360 [==============================] - 592s 7ms/step - loss: 0.0136 - accuracy: 0.9495 - precision_7: 0.9816 - recall_7: 0.9160 - auc_7: 0.9931 - val_loss: 0.0126 - val_accuracy: 0.9820 - val_precision_7: 0.3839 - val_recall_7: 0.9188 - val_auc_7: 0.9930\n",
      "Epoch 6/10\n",
      "89360/89360 [==============================] - 587s 7ms/step - loss: 0.0136 - accuracy: 0.9495 - precision_7: 0.9816 - recall_7: 0.9161 - auc_7: 0.9931 - val_loss: 0.0126 - val_accuracy: 0.9820 - val_precision_7: 0.3839 - val_recall_7: 0.9188 - val_auc_7: 0.9930\n",
      "Epoch 7/10\n",
      "89360/89360 [==============================] - 590s 7ms/step - loss: 0.0136 - accuracy: 0.9496 - precision_7: 0.9817 - recall_7: 0.9162 - auc_7: 0.9931 - val_loss: 0.0126 - val_accuracy: 0.9820 - val_precision_7: 0.3839 - val_recall_7: 0.9188 - val_auc_7: 0.9930\n",
      "Epoch 8/10\n",
      "89360/89360 [==============================] - 594s 7ms/step - loss: 0.0136 - accuracy: 0.9495 - precision_7: 0.9816 - recall_7: 0.9162 - auc_7: 0.9931 - val_loss: 0.0126 - val_accuracy: 0.9820 - val_precision_7: 0.3839 - val_recall_7: 0.9188 - val_auc_7: 0.9930\n",
      "\n",
      "Fold 5/5\n",
      "X_train_balanced shape: (2859490, 20, 15)\n",
      "y_train_balanced shape: (2859490, 1)\n",
      "Epoch 1/10\n"
     ]
    },
    {
     "name": "stderr",
     "output_type": "stream",
     "text": [
      "2024-12-23 11:36:22.000325: W tensorflow/core/grappler/costs/op_level_cost_estimator.cc:690] Error in PredictCost() for the op: op: \"Softmax\" attr { key: \"T\" value { type: DT_FLOAT } } inputs { dtype: DT_FLOAT shape { unknown_rank: true } } device { type: \"GPU\" vendor: \"NVIDIA\" model: \"NVIDIA A100-SXM4-80GB\" frequency: 1410 num_cores: 108 environment { key: \"architecture\" value: \"8.0\" } environment { key: \"cuda\" value: \"11020\" } environment { key: \"cudnn\" value: \"8100\" } num_registers: 65536 l1_cache_size: 24576 l2_cache_size: 41943040 shared_memory_size_per_multiprocessor: 167936 memory_size: 82977161216 bandwidth: 2039040000 } outputs { dtype: DT_FLOAT shape { unknown_rank: true } }\n"
     ]
    },
    {
     "name": "stdout",
     "output_type": "stream",
     "text": [
      "89353/89360 [============================>.] - ETA: 0s - loss: 0.0150 - accuracy: 0.9446 - precision_8: 0.9812 - recall_8: 0.9066 - auc_8: 0.9916"
     ]
    },
    {
     "name": "stderr",
     "output_type": "stream",
     "text": [
      "2024-12-23 11:45:31.730568: W tensorflow/core/grappler/costs/op_level_cost_estimator.cc:690] Error in PredictCost() for the op: op: \"Softmax\" attr { key: \"T\" value { type: DT_FLOAT } } inputs { dtype: DT_FLOAT shape { unknown_rank: true } } device { type: \"GPU\" vendor: \"NVIDIA\" model: \"NVIDIA A100-SXM4-80GB\" frequency: 1410 num_cores: 108 environment { key: \"architecture\" value: \"8.0\" } environment { key: \"cuda\" value: \"11020\" } environment { key: \"cudnn\" value: \"8100\" } num_registers: 65536 l1_cache_size: 24576 l2_cache_size: 41943040 shared_memory_size_per_multiprocessor: 167936 memory_size: 82977161216 bandwidth: 2039040000 } outputs { dtype: DT_FLOAT shape { unknown_rank: true } }\n"
     ]
    },
    {
     "name": "stdout",
     "output_type": "stream",
     "text": [
      "89360/89360 [==============================] - 589s 7ms/step - loss: 0.0150 - accuracy: 0.9446 - precision_8: 0.9812 - recall_8: 0.9066 - auc_8: 0.9916 - val_loss: 0.0124 - val_accuracy: 0.9842 - val_precision_8: 0.4162 - val_recall_8: 0.9138 - val_auc_8: 0.9925\n",
      "Epoch 2/10\n",
      "89360/89360 [==============================] - 583s 7ms/step - loss: 0.0136 - accuracy: 0.9502 - precision_8: 0.9838 - recall_8: 0.9155 - auc_8: 0.9930 - val_loss: 0.0124 - val_accuracy: 0.9842 - val_precision_8: 0.4167 - val_recall_8: 0.9138 - val_auc_8: 0.9925\n",
      "Epoch 3/10\n",
      "89360/89360 [==============================] - 585s 7ms/step - loss: 0.0136 - accuracy: 0.9502 - precision_8: 0.9838 - recall_8: 0.9155 - auc_8: 0.9930 - val_loss: 0.0124 - val_accuracy: 0.9842 - val_precision_8: 0.4167 - val_recall_8: 0.9138 - val_auc_8: 0.9925\n",
      "Epoch 4/10\n",
      "89360/89360 [==============================] - 583s 7ms/step - loss: 0.0136 - accuracy: 0.9503 - precision_8: 0.9839 - recall_8: 0.9155 - auc_8: 0.9930 - val_loss: 0.0124 - val_accuracy: 0.9842 - val_precision_8: 0.4167 - val_recall_8: 0.9138 - val_auc_8: 0.9925\n",
      "Epoch 5/10\n",
      "89360/89360 [==============================] - 586s 7ms/step - loss: 0.0136 - accuracy: 0.9502 - precision_8: 0.9838 - recall_8: 0.9154 - auc_8: 0.9930 - val_loss: 0.0124 - val_accuracy: 0.9842 - val_precision_8: 0.4167 - val_recall_8: 0.9138 - val_auc_8: 0.9925\n",
      "Epoch 6/10\n",
      "89360/89360 [==============================] - 589s 7ms/step - loss: 0.0136 - accuracy: 0.9502 - precision_8: 0.9838 - recall_8: 0.9154 - auc_8: 0.9930 - val_loss: 0.0124 - val_accuracy: 0.9842 - val_precision_8: 0.4167 - val_recall_8: 0.9138 - val_auc_8: 0.9925\n",
      "Epoch 7/10\n",
      "89360/89360 [==============================] - 590s 7ms/step - loss: 0.0136 - accuracy: 0.9502 - precision_8: 0.9838 - recall_8: 0.9154 - auc_8: 0.9930 - val_loss: 0.0124 - val_accuracy: 0.9842 - val_precision_8: 0.4167 - val_recall_8: 0.9138 - val_auc_8: 0.9925\n"
     ]
    }
   ],
   "source": [
    "timesteps = 20\n",
    "X_reshaped = np.hstack([X] * timesteps)  # Simulate sequential data\n",
    "\n",
    "models, histories = train_bidirectional_lstm_with_attention(X_reshaped, y, timesteps)"
   ]
  },
  {
   "cell_type": "markdown",
   "metadata": {},
   "source": [
    "best model based on validation metrics and final predictions"
   ]
  },
  {
   "cell_type": "code",
   "execution_count": 52,
   "metadata": {},
   "outputs": [
    {
     "name": "stderr",
     "output_type": "stream",
     "text": [
      "2024-12-23 12:44:47.538588: W tensorflow/core/grappler/costs/op_level_cost_estimator.cc:690] Error in PredictCost() for the op: op: \"Softmax\" attr { key: \"T\" value { type: DT_FLOAT } } inputs { dtype: DT_FLOAT shape { unknown_rank: true } } device { type: \"GPU\" vendor: \"NVIDIA\" model: \"NVIDIA A100-SXM4-80GB\" frequency: 1410 num_cores: 108 environment { key: \"architecture\" value: \"8.0\" } environment { key: \"cuda\" value: \"11020\" } environment { key: \"cudnn\" value: \"8100\" } num_registers: 65536 l1_cache_size: 24576 l2_cache_size: 41943040 shared_memory_size_per_multiprocessor: 167936 memory_size: 82977161216 bandwidth: 2039040000 } outputs { dtype: DT_FLOAT shape { unknown_rank: true } }\n"
     ]
    },
    {
     "name": "stdout",
     "output_type": "stream",
     "text": [
      "56504/56504 [==============================] - 102s 2ms/step\n"
     ]
    },
    {
     "data": {
      "image/png": "[encoded data removed]",
      "text/plain": [
       "<Figure size 800x600 with 1 Axes>"
      ]
     },
     "metadata": {},
     "output_type": "display_data"
    }
   ],
   "source": [
    "best_model_idx = np.argmax([h[\"val_accuracy\"][-1] for h in histories])\n",
    "best_model = models[best_model_idx]\n",
    "\n",
    "y_pred_probs = best_model.predict(X_reshaped.reshape(-1, timesteps, X_reshaped.shape[1] // timesteps)).ravel()\n",
    "y_pred = (y_pred_probs > 0.5).astype(int)\n",
    "plot_pr_curve(y, y_pred_probs)"
   ]
  },
  {
   "cell_type": "code",
   "execution_count": 53,
   "metadata": {},
   "outputs": [
    {
     "name": "stdout",
     "output_type": "stream",
     "text": [
      "\n",
      "Final Classification Report:\n",
      "              precision    recall  f1-score   support\n",
      "\n",
      "           0       1.00      0.99      0.99   1787181\n",
      "           1       0.43      0.91      0.59     20941\n",
      "\n",
      "    accuracy                           0.99   1808122\n",
      "   macro avg       0.72      0.95      0.79   1808122\n",
      "weighted avg       0.99      0.99      0.99   1808122\n",
      "\n"
     ]
    }
   ],
   "source": [
    "print(\"\\nFinal Classification Report:\")\n",
    "print(classification_report(y, y_pred))"
   ]
  },
  {
   "cell_type": "code",
   "execution_count": 54,
   "metadata": {},
   "outputs": [
    {
     "data": {
      "image/png": "[encoded data removed]",
      "text/plain": [
       "<Figure size 800x600 with 2 Axes>"
      ]
     },
     "metadata": {},
     "output_type": "display_data"
    }
   ],
   "source": [
    "conf_matrix = confusion_matrix(y, y_pred)\n",
    "plt.figure(figsize=(8, 6))\n",
    "sns.heatmap(conf_matrix, annot=True, fmt=\"d\", cmap=\"Blues\")\n",
    "plt.title(\"Confusion Matrix\")\n",
    "plt.xlabel(\"Predicted\")\n",
    "plt.ylabel(\"True\")\n",
    "plt.show()"
   ]
  },
  {
   "cell_type": "code",
   "execution_count": 55,
   "metadata": {},
   "outputs": [
    {
     "name": "stdout",
     "output_type": "stream",
     "text": [
      "Model saved at 'models/bidirectional_lstm_with_attention.h5'\n"
     ]
    }
   ],
   "source": [
    "best_model.save(\"models/bidirectional_lstm_with_attention.h5\")\n",
    "print(\"Model saved at 'models/bidirectional_lstm_with_attention.h5'\")"
   ]
  },
  {
   "cell_type": "code",
   "execution_count": null,
   "metadata": {},
   "outputs": [],
   "source": []
  }
 ],
 "metadata": {
  "kernelspec": {
   "display_name": "bismillah",
   "language": "python",
   "name": "python3"
  },
  "language_info": {
   "codemirror_mode": {
    "name": "ipython",
    "version": 3
   },
   "file_extension": ".py",
   "mimetype": "text/x-python",
   "name": "python",
   "nbconvert_exporter": "python",
   "pygments_lexer": "ipython3",
   "version": "3.12.7"
  }
 },
 "nbformat": 4,
 "nbformat_minor": 4
}
