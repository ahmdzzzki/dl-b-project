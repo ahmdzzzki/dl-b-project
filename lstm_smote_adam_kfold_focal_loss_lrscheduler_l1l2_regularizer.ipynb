{
 "cells": [
  {
   "cell_type": "markdown",
   "metadata": {},
   "source": [
    "# Tugas Mata Kuliah Deep Learning\n",
    "\n",
    "### **Nama Anggota Kelompok:**\n",
    "1. Ahmad Zaki (225150201111025)  \n",
    "2. Muhammad Razi Al Kindi Nadra (225150207111107)  \n",
    "3. Arion Syemael Siahaan (225150207111060)  "
   ]
  },
  {
   "cell_type": "markdown",
   "metadata": {},
   "source": [
    "- Model: Fully Connected Neural Network (FCNN)\n",
    "- Oversampling: SMOTETomek\n",
    "- Optimizer: Adam\n",
    "- Validasi Silang: K-fold cross-validation\n",
    "- Metode Tambahan: Learning rate scheduler, L1L2 regularizer\n",
    "- Fungsi Loss: Focal Loss"
   ]
  },
  {
   "cell_type": "markdown",
   "metadata": {},
   "source": [
    "Data Understanding dan Preliminary Analysis"
   ]
  },
  {
   "cell_type": "code",
   "execution_count": 9,
   "metadata": {},
   "outputs": [],
   "source": [
    "import numpy as np\n",
    "import pandas as pd\n",
    "import matplotlib.pyplot as plt\n",
    "from sklearn.model_selection import StratifiedKFold\n",
    "from sklearn.preprocessing import RobustScaler\n",
    "from sklearn.feature_selection import SelectKBest, mutual_info_classif\n",
    "from sklearn.metrics import classification_report, confusion_matrix, precision_recall_curve, auc\n",
    "from sklearn.utils import shuffle\n",
    "from imblearn.over_sampling import SMOTE\n",
    "import tensorflow as tf\n",
    "from tensorflow.keras import layers, models, regularizers\n",
    "from tensorflow.keras import backend as K\n",
    "import seaborn as sns"
   ]
  },
  {
   "cell_type": "code",
   "execution_count": 10,
   "metadata": {},
   "outputs": [],
   "source": [
    "df = pd.read_csv('../dl-b-project/2/capture20110811.binetflow')"
   ]
  },
  {
   "cell_type": "code",
   "execution_count": 11,
   "metadata": {},
   "outputs": [
    {
     "name": "stdout",
     "output_type": "stream",
     "text": [
      "Dataset Overview:\n",
      "                    StartTime       Dur Proto       SrcAddr  Sport    Dir  \\\n",
      "0  2011/08/11 09:53:40.240135  9.016532   tcp  31.96.153.11  60257     ->   \n",
      "1  2011/08/11 09:55:01.054702  2.903761   tcp  83.228.37.92   2571     ->   \n",
      "2  2011/08/11 09:55:02.677188  3.032142   tcp  83.228.37.92   2574     ->   \n",
      "3  2011/08/11 09:55:04.307051  2.932428   tcp  83.228.37.92   2576     ->   \n",
      "4  2011/08/11 09:55:03.958463  6.017523   tcp  83.228.37.92   2571     ->   \n",
      "\n",
      "         DstAddr  Dport   State  sTos  dTos  TotPkts  TotBytes  SrcBytes  \\\n",
      "0  147.32.84.229    443  SRA_SA   0.0   0.0        7       508       208   \n",
      "1  147.32.84.229  13363   SR_SA   0.0   0.0        3       184       122   \n",
      "2  147.32.84.229    443   SR_SA   0.0   0.0        3       184       122   \n",
      "3  147.32.84.229     80   SR_SA   0.0   0.0        3       184       122   \n",
      "4  147.32.84.229  13363   SR_SA   0.0   0.0        3       184       122   \n",
      "\n",
      "                             Label  \n",
      "0  flow=Background-TCP-Established  \n",
      "1  flow=Background-TCP-Established  \n",
      "2  flow=Background-TCP-Established  \n",
      "3  flow=Background-TCP-Established  \n",
      "4  flow=Background-TCP-Established  \n"
     ]
    }
   ],
   "source": [
    "print(\"Dataset Overview:\")\n",
    "print(df.head())"
   ]
  },
  {
   "cell_type": "code",
   "execution_count": 12,
   "metadata": {},
   "outputs": [
    {
     "name": "stdout",
     "output_type": "stream",
     "text": [
      "\n",
      "Dataset Info:\n",
      "<class 'pandas.core.frame.DataFrame'>\n",
      "RangeIndex: 1808122 entries, 0 to 1808121\n",
      "Data columns (total 15 columns):\n",
      " #   Column     Dtype  \n",
      "---  ------     -----  \n",
      " 0   StartTime  object \n",
      " 1   Dur        float64\n",
      " 2   Proto      object \n",
      " 3   SrcAddr    object \n",
      " 4   Sport      object \n",
      " 5   Dir        object \n",
      " 6   DstAddr    object \n",
      " 7   Dport      object \n",
      " 8   State      object \n",
      " 9   sTos       float64\n",
      " 10  dTos       float64\n",
      " 11  TotPkts    int64  \n",
      " 12  TotBytes   int64  \n",
      " 13  SrcBytes   int64  \n",
      " 14  Label      object \n",
      "dtypes: float64(3), int64(3), object(9)\n",
      "memory usage: 206.9+ MB\n",
      "None\n"
     ]
    }
   ],
   "source": [
    "print(\"\\nDataset Info:\")\n",
    "print(df.info())"
   ]
  },
  {
   "cell_type": "code",
   "execution_count": 13,
   "metadata": {},
   "outputs": [
    {
     "name": "stdout",
     "output_type": "stream",
     "text": [
      "\n",
      "Descriptive Statistics:\n",
      "                Dur          sTos          dTos       TotPkts      TotBytes  \\\n",
      "count  1.808122e+06  1.803798e+06  1.538287e+06  1.808122e+06  1.808122e+06   \n",
      "mean   4.006726e+02  2.970399e-02  3.510398e-04  3.973805e+01  3.503811e+04   \n",
      "std    9.516550e+02  2.297207e+00  2.970989e-02  4.073724e+03  4.190502e+06   \n",
      "min    0.000000e+00  0.000000e+00  0.000000e+00  1.000000e+00  6.000000e+01   \n",
      "25%    3.140000e-04  0.000000e+00  0.000000e+00  2.000000e+00  2.140000e+02   \n",
      "50%    2.147000e-03  0.000000e+00  0.000000e+00  2.000000e+00  2.610000e+02   \n",
      "75%    8.996974e+00  0.000000e+00  0.000000e+00  5.000000e+00  5.870000e+02   \n",
      "max    3.600034e+03  1.920000e+02  3.000000e+00  4.077379e+06  4.376239e+09   \n",
      "\n",
      "           SrcBytes  \n",
      "count  1.808122e+06  \n",
      "mean   2.210684e+03  \n",
      "std    3.034949e+05  \n",
      "min    0.000000e+00  \n",
      "25%    7.900000e+01  \n",
      "50%    8.500000e+01  \n",
      "75%    3.100000e+02  \n",
      "max    2.485222e+08  \n"
     ]
    }
   ],
   "source": [
    "print(\"\\nDescriptive Statistics:\")\n",
    "print(df.describe())"
   ]
  },
  {
   "cell_type": "code",
   "execution_count": 14,
   "metadata": {},
   "outputs": [
    {
     "name": "stdout",
     "output_type": "stream",
     "text": [
      "\n",
      "Unique Labels in 'Label':\n",
      "Label\n",
      "flow=To-Background-UDP-CVUT-DNS-Server                                     660177\n",
      "flow=Background-UDP-Established                                            602264\n",
      "flow=Background-UDP-Attempt                                                201380\n",
      "flow=Background-TCP-Established                                            149962\n",
      "flow=Background-Established-cmpgw-CVUT                                      78133\n",
      "                                                                            ...  \n",
      "flow=From-Botnet-V43-TCP-Established-HTTP-Ad-60                                 1\n",
      "flow=From-Botnet-V43-TCP-HTTP-Not-Encrypted-Down-2                              1\n",
      "flow=From-Botnet-V43-TCP-Established-HTTP-Binary-Download-Custom-Port-5         1\n",
      "flow=From-Botnet-V43-TCP-Established-HTTP-Binary-Download-Custom-Port-7         1\n",
      "flow=From-Botnet-V43-TCP-Established-HTTP-Ad-23                                 1\n",
      "Name: count, Length: 132, dtype: int64\n"
     ]
    }
   ],
   "source": [
    "print(\"\\nUnique Labels in 'Label':\")\n",
    "print(df['Label'].value_counts())"
   ]
  },
  {
   "cell_type": "code",
   "execution_count": 15,
   "metadata": {},
   "outputs": [
    {
     "data": {
      "text/plain": [
       "StartTime         0\n",
       "Dur               0\n",
       "Proto             0\n",
       "SrcAddr           0\n",
       "Sport          3993\n",
       "Dir               0\n",
       "DstAddr           0\n",
       "Dport          2973\n",
       "State             0\n",
       "sTos           4324\n",
       "dTos         269835\n",
       "TotPkts           0\n",
       "TotBytes          0\n",
       "SrcBytes          0\n",
       "Label             0\n",
       "dtype: int64"
      ]
     },
     "execution_count": 15,
     "metadata": {},
     "output_type": "execute_result"
    }
   ],
   "source": [
    "df.isnull().sum()"
   ]
  },
  {
   "cell_type": "code",
   "execution_count": 16,
   "metadata": {},
   "outputs": [
    {
     "data": {
      "image/png": "[encoded data removed]",
      "text/plain": [
       "<Figure size 640x480 with 1 Axes>"
      ]
     },
     "metadata": {},
     "output_type": "display_data"
    }
   ],
   "source": [
    "# Distribusi kelas\n",
    "sns.countplot(data=df, x='Label')\n",
    "plt.title('Distribusi Label (Botnet vs Normal)')\n",
    "plt.show()"
   ]
  },
  {
   "cell_type": "markdown",
   "metadata": {},
   "source": [
    "Data Cleaning"
   ]
  },
  {
   "cell_type": "code",
   "execution_count": 19,
   "metadata": {},
   "outputs": [],
   "source": [
    "def clean_data(df):\n",
    "    print(\"Jumlah data awal:\", len(df))\n",
    "    \n",
    "    # 1. Handling Missing Values\n",
    "    print(\"\\nMissing values sebelum cleaning:\")\n",
    "    print(df.isnull().sum())\n",
    "    \n",
    "    # Fill missing values\n",
    "    df['Sport'] = df['Sport'].fillna('unknown')\n",
    "    df['Dport'] = df['Dport'].fillna('unknown')\n",
    "    df['sTos'] = df['sTos'].fillna(df['sTos'].median())\n",
    "    df['dTos'] = df['dTos'].fillna(df['dTos'].median())\n",
    "    \n",
    "    # 2. Remove Invalid Values\n",
    "    df = df[df['Dur'] >= 0]\n",
    "    df = df[~((df['TotBytes'] == 0) & (df['TotPkts'] > 0))]\n",
    "    df = df[df['SrcBytes'] <= df['TotBytes']]\n",
    "    \n",
    "    # 3. Handle Outliers\n",
    "    numeric_cols = ['Dur', 'TotPkts', 'TotBytes', 'SrcBytes']\n",
    "    for col in numeric_cols:\n",
    "        Q1 = df[col].quantile(0.25)\n",
    "        Q3 = df[col].quantile(0.75)\n",
    "        IQR = Q3 - Q1\n",
    "        lower_bound = Q1 - 3 * IQR\n",
    "        upper_bound = Q3 + 3 * IQR\n",
    "        df[col] = df[col].clip(lower=lower_bound, upper=upper_bound)\n",
    "    \n",
    "    # 4. Data Validation\n",
    "    for col in numeric_cols:\n",
    "        df[col] = df[col].abs()\n",
    "    \n",
    "    # 5. Convert Label ke format biner\n",
    "    df['Label'] = df['Label'].apply(lambda x: 1 if 'Botnet' in x else 0)\n",
    "    \n",
    "    # 6. Remove duplicates if any\n",
    "    df = df.drop_duplicates()\n",
    "    \n",
    "    print(\"\\nMissing values setelah cleaning:\")\n",
    "    print(df.isnull().sum())\n",
    "    print(\"\\nJumlah data setelah cleaning:\", len(df))\n",
    "    \n",
    "    # 7. Print class distribution\n",
    "    print(\"\\nDistribusi kelas setelah cleaning:\")\n",
    "    print(df['Label'].value_counts(normalize=True) * 100)\n",
    "    \n",
    "    return df"
   ]
  },
  {
   "cell_type": "markdown",
   "metadata": {},
   "source": [
    "Focal Loss Implementation"
   ]
  },
  {
   "cell_type": "code",
   "execution_count": 21,
   "metadata": {},
   "outputs": [],
   "source": [
    "def focal_loss(gamma=2., alpha=0.25):\n",
    "    def focal_loss_fixed(y_true, y_pred):\n",
    "        y_true = K.cast(y_true, dtype=K.floatx())\n",
    "        alpha_t = y_true * alpha + (1 - y_true) * (1 - alpha)\n",
    "        p_t = y_true * y_pred + (1 - y_true) * (1 - y_pred) + K.epsilon()\n",
    "        loss = -alpha_t * K.pow(1 - p_t, gamma) * K.log(p_t)\n",
    "        return K.mean(loss)\n",
    "    return focal_loss_fixed"
   ]
  },
  {
   "cell_type": "markdown",
   "metadata": {},
   "source": [
    "Feature Engineering"
   ]
  },
  {
   "cell_type": "code",
   "execution_count": 22,
   "metadata": {},
   "outputs": [],
   "source": [
    "def enhanced_feature_engineering(df):\n",
    "    df['StartTime'] = pd.to_datetime(df['StartTime'])\n",
    "    df['Hour'] = df['StartTime'].dt.hour\n",
    "    df['Day'] = df['StartTime'].dt.day\n",
    "    df['Month'] = df['StartTime'].dt.month\n",
    "    df['DayOfWeek'] = df['StartTime'].dt.dayofweek\n",
    "    df['IsWeekend'] = df['StartTime'].dt.dayofweek.isin([5, 6]).astype(int)\n",
    "    df['BytesPerPacket'] = df['TotBytes'] / df['TotPkts'].replace(0, 1)\n",
    "    df['BytesPerSecond'] = df['TotBytes'] / df['Dur'].replace(0, 1)\n",
    "    df['PacketsPerSecond'] = df['TotPkts'] / df['Dur'].replace(0, 1)\n",
    "    df['SrcBytesRatio'] = df['SrcBytes'] / df['TotBytes'].replace(0, 1)\n",
    "    df['AvgDurPerPacket'] = df['Dur'] / df['TotPkts'].replace(0, 1)\n",
    "    df['SrcToDstPktRatio'] = df['TotPkts'] / (df['SrcBytes'] + 1)\n",
    "    for col in ['Proto', 'State', 'Dir']:\n",
    "        temp_dict = df.groupby(col)['Label'].mean()\n",
    "        df[f'{col}_encoded'] = df[col].map(temp_dict)\n",
    "    return df"
   ]
  },
  {
   "cell_type": "markdown",
   "metadata": {},
   "source": [
    "Data Preprocessing"
   ]
  },
  {
   "cell_type": "code",
   "execution_count": 23,
   "metadata": {},
   "outputs": [],
   "source": [
    "def preprocess_data(df):\n",
    "    features = [\n",
    "        'Dur', 'Proto_encoded', 'State_encoded', 'Dir_encoded',\n",
    "        'sTos', 'dTos', 'TotPkts', 'TotBytes', 'SrcBytes',\n",
    "        'Hour', 'Day', 'Month', 'DayOfWeek', 'IsWeekend',\n",
    "        'BytesPerPacket', 'BytesPerSecond', 'PacketsPerSecond',\n",
    "        'SrcBytesRatio', 'AvgDurPerPacket', 'SrcToDstPktRatio'\n",
    "    ]\n",
    "    selector = SelectKBest(score_func=mutual_info_classif, k=15)\n",
    "    X = selector.fit_transform(df[features], df['Label'])\n",
    "    selected_features = np.array(features)[selector.get_support()]\n",
    "    scaler = RobustScaler()\n",
    "    X_scaled = scaler.fit_transform(X)\n",
    "    return X_scaled, df['Label'], selected_features, scaler"
   ]
  },
  {
   "cell_type": "markdown",
   "metadata": {},
   "source": [
    "Create LSTM Model"
   ]
  },
  {
   "cell_type": "code",
   "execution_count": 24,
   "metadata": {},
   "outputs": [],
   "source": [
    "def create_lstm_model(input_shape, dropout_rate=0.4):\n",
    "    model = models.Sequential([\n",
    "        layers.LSTM(128, activation='tanh', return_sequences=True, input_shape=input_shape,\n",
    "                    kernel_regularizer=regularizers.l1_l2(l1=1e-5, l2=1e-4)),\n",
    "        layers.BatchNormalization(),\n",
    "        layers.Dropout(dropout_rate),\n",
    "        layers.LSTM(64, activation='tanh', return_sequences=False,\n",
    "                    kernel_regularizer=regularizers.l1_l2(l1=1e-5, l2=1e-4)),\n",
    "        layers.BatchNormalization(),\n",
    "        layers.Dropout(dropout_rate - 0.1),\n",
    "        layers.Dense(32, activation='relu',\n",
    "                     kernel_regularizer=regularizers.l1_l2(l1=1e-5, l2=1e-4)),\n",
    "        layers.BatchNormalization(),\n",
    "        layers.Dropout(dropout_rate - 0.2),\n",
    "        layers.Dense(1, activation='sigmoid')\n",
    "    ])\n",
    "    initial_learning_rate = 0.001\n",
    "    decay_steps = 1000\n",
    "    decay_rate = 0.9\n",
    "    learning_rate_schedule = tf.keras.optimizers.schedules.ExponentialDecay(\n",
    "        initial_learning_rate, decay_steps, decay_rate\n",
    "    )\n",
    "    optimizer = tf.keras.optimizers.Adam(learning_rate=learning_rate_schedule)\n",
    "    model.compile(\n",
    "        optimizer=optimizer,\n",
    "        loss=focal_loss(gamma=2.0, alpha=0.25),\n",
    "        metrics=['accuracy', tf.keras.metrics.Precision(), tf.keras.metrics.Recall(), tf.keras.metrics.AUC()]\n",
    "    )\n",
    "    return model"
   ]
  },
  {
   "cell_type": "markdown",
   "metadata": {},
   "source": [
    "Precision-Recall Curve"
   ]
  },
  {
   "cell_type": "code",
   "execution_count": 25,
   "metadata": {},
   "outputs": [],
   "source": [
    "def plot_pr_curve(y_true, y_pred_probs):\n",
    "    precision, recall, _ = precision_recall_curve(y_true, y_pred_probs)\n",
    "    pr_auc = auc(recall, precision)\n",
    "    plt.figure(figsize=(8, 6))\n",
    "    plt.plot(recall, precision, label=f'PR AUC = {pr_auc:.4f}')\n",
    "    plt.xlabel('Recall')\n",
    "    plt.ylabel('Precision')\n",
    "    plt.title('Precision-Recall Curve')\n",
    "    plt.legend()\n",
    "    plt.grid(True)\n",
    "    plt.show()"
   ]
  },
  {
   "cell_type": "markdown",
   "metadata": {},
   "source": [
    "Training with K-Fold Cross Validation"
   ]
  },
  {
   "cell_type": "code",
   "execution_count": 26,
   "metadata": {},
   "outputs": [],
   "source": [
    "def train_lstm_with_kfold(X, y, timesteps, n_splits=5):\n",
    "    kfold = StratifiedKFold(n_splits=n_splits, shuffle=True, random_state=42)\n",
    "    histories = []\n",
    "    models = []\n",
    "    \n",
    "    for fold, (train_idx, val_idx) in enumerate(kfold.split(X, y)):\n",
    "        print(f'\\nFold {fold + 1}/{n_splits}')\n",
    "        \n",
    "        X_train, X_val = X[train_idx], X[val_idx]\n",
    "        y_train, y_val = y[train_idx], y[val_idx]\n",
    "        \n",
    "        # Reshape data for LSTM\n",
    "        X_train = X_train.reshape(-1, timesteps, X_train.shape[1] // timesteps)\n",
    "        X_val = X_val.reshape(-1, timesteps, X_val.shape[1] // timesteps)\n",
    "        \n",
    "        # Apply SMOTE\n",
    "        smote = SMOTE(random_state=42)\n",
    "        X_train_balanced, y_train_balanced = smote.fit_resample(\n",
    "            X_train.reshape(X_train.shape[0], -1), y_train\n",
    "        )\n",
    "        X_train_balanced = X_train_balanced.reshape(-1, timesteps, X_train.shape[2])\n",
    "        \n",
    "        # Calculate class weights\n",
    "        class_weights = dict(enumerate(np.bincount(y_train_balanced).max() / np.bincount(y_train_balanced)))\n",
    "        \n",
    "        # Create and train model\n",
    "        model = create_lstm_model((timesteps, X_train.shape[2]))\n",
    "        \n",
    "        history = model.fit(\n",
    "            X_train_balanced, y_train_balanced,\n",
    "            epochs=20,\n",
    "            batch_size=256,\n",
    "            verbose=0,\n",
    "            validation_data=(X_val, y_val),\n",
    "            class_weight=class_weights,\n",
    "            callbacks=[\n",
    "                tf.keras.callbacks.EarlyStopping(\n",
    "                    monitor='val_loss',\n",
    "                    patience=5,\n",
    "                    restore_best_weights=True\n",
    "                ),\n",
    "                tf.keras.callbacks.ReduceLROnPlateau(\n",
    "                    monitor='val_loss',\n",
    "                    factor=0.2,\n",
    "                    patience=3,\n",
    "                    min_lr=1e-6\n",
    "                )\n",
    "            ]\n",
    "        )\n",
    "        \n",
    "        histories.append(history.history)\n",
    "        models.append(model)\n",
    "    \n",
    "    return models, histories"
   ]
  },
  {
   "cell_type": "markdown",
   "metadata": {},
   "source": [
    "Main Pipeline"
   ]
  },
  {
   "cell_type": "code",
   "execution_count": 27,
   "metadata": {},
   "outputs": [
    {
     "name": "stdout",
     "output_type": "stream",
     "text": [
      "Jumlah data awal: 1808122\n",
      "\n",
      "Missing values sebelum cleaning:\n",
      "StartTime         0\n",
      "Dur               0\n",
      "Proto             0\n",
      "SrcAddr           0\n",
      "Sport          3993\n",
      "Dir               0\n",
      "DstAddr           0\n",
      "Dport          2973\n",
      "State             0\n",
      "sTos           4324\n",
      "dTos         269835\n",
      "TotPkts           0\n",
      "TotBytes          0\n",
      "SrcBytes          0\n",
      "Label             0\n",
      "dtype: int64\n",
      "\n",
      "Missing values setelah cleaning:\n",
      "StartTime    0\n",
      "Dur          0\n",
      "Proto        0\n",
      "SrcAddr      0\n",
      "Sport        0\n",
      "Dir          0\n",
      "DstAddr      0\n",
      "Dport        0\n",
      "State        0\n",
      "sTos         0\n",
      "dTos         0\n",
      "TotPkts      0\n",
      "TotBytes     0\n",
      "SrcBytes     0\n",
      "Label        0\n",
      "dtype: int64\n",
      "\n",
      "Jumlah data setelah cleaning: 1808122\n",
      "\n",
      "Distribusi kelas setelah cleaning:\n",
      "Label\n",
      "0    98.841837\n",
      "1     1.158163\n",
      "Name: proportion, dtype: float64\n"
     ]
    }
   ],
   "source": [
    "df = clean_data(df)\n",
    "df = enhanced_feature_engineering(df)\n",
    "\n",
    "X, y, selected_features, scaler = preprocess_data(df)"
   ]
  },
  {
   "cell_type": "code",
   "execution_count": 33,
   "metadata": {},
   "outputs": [],
   "source": [
    "X_df = pd.DataFrame(X, columns=selected_features)\n",
    "y_df = pd.DataFrame(y, columns=['Label'])\n",
    "\n",
    "X_df.to_csv('processed_features.csv', index=False)\n",
    "y_df.to_csv('processed_labels.csv', index=False)"
   ]
  },
  {
   "cell_type": "markdown",
   "metadata": {},
   "source": [
    "Train model with k-fold"
   ]
  },
  {
   "cell_type": "code",
   "execution_count": 28,
   "metadata": {},
   "outputs": [
    {
     "name": "stdout",
     "output_type": "stream",
     "text": [
      "\n",
      "Fold 1/5\n"
     ]
    },
    {
     "name": "stderr",
     "output_type": "stream",
     "text": [
      "WARNING: All log messages before absl::InitializeLog() is called are written to STDERR\n",
      "I0000 00:00:1734898520.250537   40601 cuda_executor.cc:1015] successful NUMA node read from SysFS had negative value (-1), but there must be at least one NUMA node, so returning NUMA node zero. See more at https://github.com/torvalds/linux/blob/v6.0/Documentation/ABI/testing/sysfs-bus-pci#L344-L355\n",
      "I0000 00:00:1734898520.296840   40601 cuda_executor.cc:1015] successful NUMA node read from SysFS had negative value (-1), but there must be at least one NUMA node, so returning NUMA node zero. See more at https://github.com/torvalds/linux/blob/v6.0/Documentation/ABI/testing/sysfs-bus-pci#L344-L355\n",
      "I0000 00:00:1734898520.302192   40601 cuda_executor.cc:1015] successful NUMA node read from SysFS had negative value (-1), but there must be at least one NUMA node, so returning NUMA node zero. See more at https://github.com/torvalds/linux/blob/v6.0/Documentation/ABI/testing/sysfs-bus-pci#L344-L355\n",
      "I0000 00:00:1734898520.307020   40601 cuda_executor.cc:1015] successful NUMA node read from SysFS had negative value (-1), but there must be at least one NUMA node, so returning NUMA node zero. See more at https://github.com/torvalds/linux/blob/v6.0/Documentation/ABI/testing/sysfs-bus-pci#L344-L355\n",
      "I0000 00:00:1734898520.311976   40601 cuda_executor.cc:1015] successful NUMA node read from SysFS had negative value (-1), but there must be at least one NUMA node, so returning NUMA node zero. See more at https://github.com/torvalds/linux/blob/v6.0/Documentation/ABI/testing/sysfs-bus-pci#L344-L355\n",
      "I0000 00:00:1734898520.316131   40601 cuda_executor.cc:1015] successful NUMA node read from SysFS had negative value (-1), but there must be at least one NUMA node, so returning NUMA node zero. See more at https://github.com/torvalds/linux/blob/v6.0/Documentation/ABI/testing/sysfs-bus-pci#L344-L355\n",
      "I0000 00:00:1734898520.444546   40601 cuda_executor.cc:1015] successful NUMA node read from SysFS had negative value (-1), but there must be at least one NUMA node, so returning NUMA node zero. See more at https://github.com/torvalds/linux/blob/v6.0/Documentation/ABI/testing/sysfs-bus-pci#L344-L355\n",
      "I0000 00:00:1734898520.446438   40601 cuda_executor.cc:1015] successful NUMA node read from SysFS had negative value (-1), but there must be at least one NUMA node, so returning NUMA node zero. See more at https://github.com/torvalds/linux/blob/v6.0/Documentation/ABI/testing/sysfs-bus-pci#L344-L355\n",
      "I0000 00:00:1734898520.448289   40601 cuda_executor.cc:1015] successful NUMA node read from SysFS had negative value (-1), but there must be at least one NUMA node, so returning NUMA node zero. See more at https://github.com/torvalds/linux/blob/v6.0/Documentation/ABI/testing/sysfs-bus-pci#L344-L355\n",
      "2024-12-23 03:15:20.449778: I tensorflow/core/common_runtime/gpu/gpu_device.cc:2021] Created device /job:localhost/replica:0/task:0/device:GPU:0 with 3052 MB memory:  -> device: 0, name: NVIDIA GeForce RTX 3060 Laptop GPU, pci bus id: 0000:01:00.0, compute capability: 8.6\n",
      "/home/ahmadzaki/anaconda3/envs/bismillah/lib/python3.12/site-packages/keras/src/layers/rnn/rnn.py:200: UserWarning: Do not pass an `input_shape`/`input_dim` argument to a layer. When using Sequential models, prefer using an `Input(shape)` object as the first layer in the model instead.\n",
      "  super().__init__(**kwargs)\n",
      "2024-12-23 03:15:25.123413: W external/local_tsl/tsl/framework/cpu_allocator_impl.cc:83] Allocation of 1715692800 exceeds 10% of free system memory.\n",
      "2024-12-23 03:15:26.828353: W external/local_tsl/tsl/framework/cpu_allocator_impl.cc:83] Allocation of 1715692800 exceeds 10% of free system memory.\n",
      "2024-12-23 03:15:30.378128: I external/local_xla/xla/stream_executor/cuda/cuda_dnn.cc:531] Loaded cuDNN version 90100\n"
     ]
    },
    {
     "name": "stdout",
     "output_type": "stream",
     "text": [
      "\n",
      "Fold 2/5\n"
     ]
    },
    {
     "name": "stderr",
     "output_type": "stream",
     "text": [
      "/home/ahmadzaki/anaconda3/envs/bismillah/lib/python3.12/site-packages/keras/src/layers/rnn/rnn.py:200: UserWarning: Do not pass an `input_shape`/`input_dim` argument to a layer. When using Sequential models, prefer using an `Input(shape)` object as the first layer in the model instead.\n",
      "  super().__init__(**kwargs)\n",
      "2024-12-23 03:24:46.720105: W external/local_tsl/tsl/framework/cpu_allocator_impl.cc:83] Allocation of 1715694000 exceeds 10% of free system memory.\n",
      "2024-12-23 03:24:48.341384: W external/local_tsl/tsl/framework/cpu_allocator_impl.cc:83] Allocation of 1715694000 exceeds 10% of free system memory.\n"
     ]
    },
    {
     "name": "stdout",
     "output_type": "stream",
     "text": [
      "\n",
      "Fold 3/5\n"
     ]
    },
    {
     "name": "stderr",
     "output_type": "stream",
     "text": [
      "/home/ahmadzaki/anaconda3/envs/bismillah/lib/python3.12/site-packages/keras/src/layers/rnn/rnn.py:200: UserWarning: Do not pass an `input_shape`/`input_dim` argument to a layer. When using Sequential models, prefer using an `Input(shape)` object as the first layer in the model instead.\n",
      "  super().__init__(**kwargs)\n",
      "2024-12-23 03:34:10.724783: W external/local_tsl/tsl/framework/cpu_allocator_impl.cc:83] Allocation of 1715694000 exceeds 10% of free system memory.\n"
     ]
    },
    {
     "name": "stdout",
     "output_type": "stream",
     "text": [
      "\n",
      "Fold 4/5\n"
     ]
    },
    {
     "name": "stderr",
     "output_type": "stream",
     "text": [
      "/home/ahmadzaki/anaconda3/envs/bismillah/lib/python3.12/site-packages/keras/src/layers/rnn/rnn.py:200: UserWarning: Do not pass an `input_shape`/`input_dim` argument to a layer. When using Sequential models, prefer using an `Input(shape)` object as the first layer in the model instead.\n",
      "  super().__init__(**kwargs)\n"
     ]
    },
    {
     "name": "stdout",
     "output_type": "stream",
     "text": [
      "\n",
      "Fold 5/5\n"
     ]
    },
    {
     "name": "stderr",
     "output_type": "stream",
     "text": [
      "/home/ahmadzaki/anaconda3/envs/bismillah/lib/python3.12/site-packages/keras/src/layers/rnn/rnn.py:200: UserWarning: Do not pass an `input_shape`/`input_dim` argument to a layer. When using Sequential models, prefer using an `Input(shape)` object as the first layer in the model instead.\n",
      "  super().__init__(**kwargs)\n"
     ]
    }
   ],
   "source": [
    "# Reshape data for LSTM (example with 10 timesteps)\n",
    "timesteps = 10\n",
    "X_reshaped = np.hstack([X] * timesteps)  # Simulate sequential data\n",
    "\n",
    "# Train model\n",
    "models, histories = train_lstm_with_kfold(X_reshaped, y, timesteps)"
   ]
  },
  {
   "cell_type": "markdown",
   "metadata": {},
   "source": [
    "best model based on validation metrics and final predictions"
   ]
  },
  {
   "cell_type": "code",
   "execution_count": 29,
   "metadata": {},
   "outputs": [
    {
     "name": "stdout",
     "output_type": "stream",
     "text": [
      "\u001b[1m56504/56504\u001b[0m \u001b[32m━━━━━━━━━━━━━━━━━━━━\u001b[0m\u001b[37m\u001b[0m \u001b[1m68s\u001b[0m 1ms/step\n"
     ]
    },
    {
     "data": {
      "image/png": "[encoded data removed]",
      "text/plain": [
       "<Figure size 800x600 with 1 Axes>"
      ]
     },
     "metadata": {},
     "output_type": "display_data"
    }
   ],
   "source": [
    "best_model_idx = np.argmax([h['val_accuracy'][-1] for h in histories])\n",
    "best_model = models[best_model_idx]\n",
    "\n",
    "y_pred_probs = best_model.predict(X_reshaped.reshape(-1, timesteps, X_reshaped.shape[1] // timesteps)).ravel()\n",
    "y_pred = (y_pred_probs > 0.5).astype(int)\n",
    "plot_pr_curve(y, y_pred_probs)"
   ]
  },
  {
   "cell_type": "code",
   "execution_count": 30,
   "metadata": {},
   "outputs": [
    {
     "name": "stdout",
     "output_type": "stream",
     "text": [
      "\n",
      "Final Classification Report:\n",
      "              precision    recall  f1-score   support\n",
      "\n",
      "           0       1.00      0.99      0.99   1787181\n",
      "           1       0.50      0.92      0.64     20941\n",
      "\n",
      "    accuracy                           0.99   1808122\n",
      "   macro avg       0.75      0.96      0.82   1808122\n",
      "weighted avg       0.99      0.99      0.99   1808122\n",
      "\n"
     ]
    }
   ],
   "source": [
    "print(\"\\nFinal Classification Report:\")\n",
    "print(classification_report(y, y_pred))"
   ]
  },
  {
   "cell_type": "code",
   "execution_count": 31,
   "metadata": {},
   "outputs": [
    {
     "data": {
      "image/png": "[encoded data removed]",
      "text/plain": [
       "<Figure size 800x600 with 2 Axes>"
      ]
     },
     "metadata": {},
     "output_type": "display_data"
    }
   ],
   "source": [
    "conf_matrix = confusion_matrix(y, y_pred)\n",
    "plt.figure(figsize=(8, 6))\n",
    "sns.heatmap(conf_matrix, annot=True, fmt='d', cmap='Blues')\n",
    "plt.title('Confusion Matrix')\n",
    "plt.xlabel('Predicted')\n",
    "plt.ylabel('True')\n",
    "plt.show()"
   ]
  },
  {
   "cell_type": "code",
   "execution_count": null,
   "metadata": {},
   "outputs": [
    {
     "name": "stderr",
     "output_type": "stream",
     "text": [
      "WARNING:absl:You are saving your model as an HDF5 file via `model.save()` or `keras.saving.save_model(model)`. This file format is considered legacy. We recommend using instead the native Keras format, e.g. `model.save('my_model.keras')` or `keras.saving.save_model(model, 'my_model.keras')`. \n"
     ]
    },
    {
     "name": "stdout",
     "output_type": "stream",
     "text": [
      "Model saved at 'models/lstm_smote_adam_kfold_focal_loss_lrscheduler_l1l2_regularizer.h5'\n"
     ]
    }
   ],
   "source": [
    "best_model.save('models/lstm_smote_adam_kfold_focal_loss_lrscheduler_l1l2_regularizer.h5')\n",
    "print(\"Model saved at 'models/lstm_smote_adam_kfold_focal_loss_lrscheduler_l1l2_regularizer.h5'\")"
   ]
  }
 ],
 "metadata": {
  "kernelspec": {
   "display_name": "bismillah",
   "language": "python",
   "name": "python3"
  },
  "language_info": {
   "codemirror_mode": {
    "name": "ipython",
    "version": 3
   },
   "file_extension": ".py",
   "mimetype": "text/x-python",
   "name": "python",
   "nbconvert_exporter": "python",
   "pygments_lexer": "ipython3",
   "version": "3.12.7"
  }
 },
 "nbformat": 4,
 "nbformat_minor": 2
}
